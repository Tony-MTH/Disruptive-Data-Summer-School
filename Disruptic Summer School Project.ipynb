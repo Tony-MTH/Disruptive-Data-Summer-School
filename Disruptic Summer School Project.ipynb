{
 "cells": [
  {
   "cell_type": "markdown",
   "metadata": {},
   "source": [
    "# Disruptive Data Summer School  \n",
    "## Project 4  \n",
    "### By Nwachukwu Anthony  \n",
    "### Email: nwachukwuanthony2015@gmail.com"
   ]
  },
  {
   "cell_type": "markdown",
   "metadata": {},
   "source": [
    "### Import Libraries"
   ]
  },
  {
   "cell_type": "code",
   "execution_count": 44,
   "metadata": {},
   "outputs": [],
   "source": [
    "import urllib.request\n",
    "import pandas as pd\n",
    "import csv\n",
    "filename = 'wordlist.csv'"
   ]
  },
  {
   "cell_type": "markdown",
   "metadata": {},
   "source": [
    "### Download the file\n",
    "\n",
    "To download the file, we do the following:\n",
    "1. Copy the url given, \"https://docs.google.com/spreadsheets/d/1Clf6VpAwHRvTxeFft2TRCbSxLvMHO14zJiyA7fH1l5Y/edit#gid=0\"\n",
    "2. After the last backslash, remove the things that follow (edit#gid=0) and replace with (export?format=csv)\n",
    "3. Then use it as the url for download"
   ]
  },
  {
   "cell_type": "code",
   "execution_count": 45,
   "metadata": {},
   "outputs": [],
   "source": [
    "def downloadFile(url,dest,fomat):\n",
    "    try:\n",
    "        url = url.replace(url.split('/')[-1],'export?format='+fomat)\n",
    "        urllib.request.urlretrieve(url, dest)#retrieve the page and store it in the destination file\n",
    "        return('Success !!!')\n",
    "    except:\n",
    "        return('Error, Check your entries')"
   ]
  },
  {
   "cell_type": "code",
   "execution_count": 46,
   "metadata": {},
   "outputs": [
    {
     "data": {
      "text/plain": [
       "'Success !!!'"
      ]
     },
     "execution_count": 46,
     "metadata": {},
     "output_type": "execute_result"
    }
   ],
   "source": [
    "url = 'https://docs.google.com/spreadsheets/d/1Clf6VpAwHRvTxeFft2TRCbSxLvMHO14zJiyA7fH1l5Y/edit#gid=0' #web address\n",
    "dest = 'wordlist.csv' #destination file\n",
    "fomat = 'csv'\n",
    "downloadFile(url,dest,fomat)"
   ]
  },
  {
   "cell_type": "markdown",
   "metadata": {},
   "source": [
    "### Order List from A to Z"
   ]
  },
  {
   "cell_type": "code",
   "execution_count": 47,
   "metadata": {},
   "outputs": [],
   "source": [
    "def wordList(filename):\n",
    "    \n",
    "    wordList = [] #create empty list to store word list\n",
    "\n",
    "    \"\"\"creating list from the csv starts...\"\"\"\n",
    "    with open(filename) as fp:\n",
    "        reader = csv.reader(fp)\n",
    "        for row in reader:\n",
    "            wordList.extend(row)\n",
    "    \"\"\"...creating list from the csv ends\"\"\"\n",
    "    \n",
    "    return(wordList)"
   ]
  },
  {
   "cell_type": "code",
   "execution_count": 48,
   "metadata": {},
   "outputs": [],
   "source": [
    "def saveSortedList(inputfilename, outputfilename):\n",
    "    wordLists = wordList(inputfilename)\n",
    "    df = pd.DataFrame(sorted(wordLists),  columns = ['Items']) # sort and create dataframe from the list\n",
    "    df.to_csv(outputfilename, index=False, header=False) #write the dataframe to csv file namesd (OrderWordList.csv)\n",
    "    return(df)"
   ]
  },
  {
   "cell_type": "code",
   "execution_count": 49,
   "metadata": {},
   "outputs": [
    {
     "data": {
      "text/html": [
       "<div>\n",
       "<style scoped>\n",
       "    .dataframe tbody tr th:only-of-type {\n",
       "        vertical-align: middle;\n",
       "    }\n",
       "\n",
       "    .dataframe tbody tr th {\n",
       "        vertical-align: top;\n",
       "    }\n",
       "\n",
       "    .dataframe thead th {\n",
       "        text-align: right;\n",
       "    }\n",
       "</style>\n",
       "<table border=\"1\" class=\"dataframe\">\n",
       "  <thead>\n",
       "    <tr style=\"text-align: right;\">\n",
       "      <th></th>\n",
       "      <th>Items</th>\n",
       "    </tr>\n",
       "  </thead>\n",
       "  <tbody>\n",
       "    <tr>\n",
       "      <th>0</th>\n",
       "      <td>ARIMA</td>\n",
       "    </tr>\n",
       "    <tr>\n",
       "      <th>1</th>\n",
       "      <td>Best programming language</td>\n",
       "    </tr>\n",
       "    <tr>\n",
       "      <th>2</th>\n",
       "      <td>CNN</td>\n",
       "    </tr>\n",
       "    <tr>\n",
       "      <th>3</th>\n",
       "      <td>Convolutional Neural Networks</td>\n",
       "    </tr>\n",
       "    <tr>\n",
       "      <th>4</th>\n",
       "      <td>Data</td>\n",
       "    </tr>\n",
       "    <tr>\n",
       "      <th>5</th>\n",
       "      <td>Data Science</td>\n",
       "    </tr>\n",
       "    <tr>\n",
       "      <th>6</th>\n",
       "      <td>Data analysis</td>\n",
       "    </tr>\n",
       "    <tr>\n",
       "      <th>7</th>\n",
       "      <td>Data wrangling</td>\n",
       "    </tr>\n",
       "    <tr>\n",
       "      <th>8</th>\n",
       "      <td>Deep Learning</td>\n",
       "    </tr>\n",
       "    <tr>\n",
       "      <th>9</th>\n",
       "      <td>Engineering</td>\n",
       "    </tr>\n",
       "    <tr>\n",
       "      <th>10</th>\n",
       "      <td>Facebook</td>\n",
       "    </tr>\n",
       "    <tr>\n",
       "      <th>11</th>\n",
       "      <td>Gephi</td>\n",
       "    </tr>\n",
       "    <tr>\n",
       "      <th>12</th>\n",
       "      <td>Google</td>\n",
       "    </tr>\n",
       "    <tr>\n",
       "      <th>13</th>\n",
       "      <td>Graph Analysis</td>\n",
       "    </tr>\n",
       "    <tr>\n",
       "      <th>14</th>\n",
       "      <td>Hello</td>\n",
       "    </tr>\n",
       "    <tr>\n",
       "      <th>15</th>\n",
       "      <td>Machine Learning</td>\n",
       "    </tr>\n",
       "    <tr>\n",
       "      <th>16</th>\n",
       "      <td>Neural Networks</td>\n",
       "    </tr>\n",
       "    <tr>\n",
       "      <th>17</th>\n",
       "      <td>Pandas</td>\n",
       "    </tr>\n",
       "    <tr>\n",
       "      <th>18</th>\n",
       "      <td>Programming languages</td>\n",
       "    </tr>\n",
       "    <tr>\n",
       "      <th>19</th>\n",
       "      <td>Python</td>\n",
       "    </tr>\n",
       "    <tr>\n",
       "      <th>20</th>\n",
       "      <td>RNN</td>\n",
       "    </tr>\n",
       "    <tr>\n",
       "      <th>21</th>\n",
       "      <td>SVM Classifiers</td>\n",
       "    </tr>\n",
       "    <tr>\n",
       "      <th>22</th>\n",
       "      <td>Science</td>\n",
       "    </tr>\n",
       "    <tr>\n",
       "      <th>23</th>\n",
       "      <td>Tensorflow</td>\n",
       "    </tr>\n",
       "    <tr>\n",
       "      <th>24</th>\n",
       "      <td>What Is Data Science</td>\n",
       "    </tr>\n",
       "  </tbody>\n",
       "</table>\n",
       "</div>"
      ],
      "text/plain": [
       "                            Items\n",
       "0                           ARIMA\n",
       "1       Best programming language\n",
       "2                             CNN\n",
       "3   Convolutional Neural Networks\n",
       "4                            Data\n",
       "5                    Data Science\n",
       "6                   Data analysis\n",
       "7                  Data wrangling\n",
       "8                   Deep Learning\n",
       "9                     Engineering\n",
       "10                       Facebook\n",
       "11                          Gephi\n",
       "12                         Google\n",
       "13                 Graph Analysis\n",
       "14                          Hello\n",
       "15               Machine Learning\n",
       "16                Neural Networks\n",
       "17                         Pandas\n",
       "18          Programming languages\n",
       "19                         Python\n",
       "20                            RNN\n",
       "21                SVM Classifiers\n",
       "22                        Science\n",
       "23                     Tensorflow\n",
       "24           What Is Data Science"
      ]
     },
     "execution_count": 49,
     "metadata": {},
     "output_type": "execute_result"
    }
   ],
   "source": [
    "outputfilename = 'OrderWordList.csv'\n",
    "saveSortedList(filename,outputfilename)"
   ]
  },
  {
   "cell_type": "markdown",
   "metadata": {},
   "source": [
    "### Count the Number of Words and Average Word Length\n",
    "\n",
    "To count the number of words,\n",
    "1. Using the **wordLists** we created\n",
    "2. For each phrase in the list, we split it into words using space as delimiter\n",
    "3. Count their total number and sums\n",
    "4. Find average"
   ]
  },
  {
   "cell_type": "code",
   "execution_count": 72,
   "metadata": {},
   "outputs": [],
   "source": [
    "def wAvrcount(filename):\n",
    "    count = 0\n",
    "    wordLength = 0\n",
    "    for phrase in wordList(filename):\n",
    "        count += len(phrase.split(' '))\n",
    "        wordLength += sum([len(word) for word in phrase.split(' ')])\n",
    "    print('The number of words is: ' + str(count) + '\\n'+'The Average word length of the list is: ' + str(wordLength/count))"
   ]
  },
  {
   "cell_type": "code",
   "execution_count": 73,
   "metadata": {},
   "outputs": [
    {
     "name": "stdout",
     "output_type": "stream",
     "text": [
      "The number of words is: 41\n",
      "The Average word length of the list is: 6.585365853658536\n"
     ]
    }
   ],
   "source": [
    "wAvrcount(filename)"
   ]
  },
  {
   "cell_type": "code",
   "execution_count": null,
   "metadata": {},
   "outputs": [],
   "source": []
  }
 ],
 "metadata": {
  "kernelspec": {
   "display_name": "Python 3",
   "language": "python",
   "name": "python3"
  },
  "language_info": {
   "codemirror_mode": {
    "name": "ipython",
    "version": 3
   },
   "file_extension": ".py",
   "mimetype": "text/x-python",
   "name": "python",
   "nbconvert_exporter": "python",
   "pygments_lexer": "ipython3",
   "version": "3.7.3"
  }
 },
 "nbformat": 4,
 "nbformat_minor": 2
}
